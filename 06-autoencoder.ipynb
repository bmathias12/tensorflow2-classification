{
 "cells": [
  {
   "cell_type": "markdown",
   "metadata": {},
   "source": [
    "# Autoencoder using Functional API\n",
    "\n",
    "Autoencoders are useful for identifying lower dimensional latent representations of data.  This example uses the toy Titanic dataset as a way to learn to apply an autoencoder with Tensorflow's functional API.\n",
    "\n",
    "\n",
    "This architecture creates an autoencoder with 3 latent variables.\n",
    "\n",
    "```\n",
    "n_features = df_train_sc.shape[1]\n",
    "encoding_dim = 3\n",
    "\n",
    "# input placeholder\n",
    "input_x = layers.Input(shape=(n_features))\n",
    "\n",
    "encoded = layers.Dense(8, activation='relu', kernel_regularizer=keras.regularizers.l2(0.0001))(input_x)\n",
    "encoded = layers.Dense(4, activation='relu', kernel_regularizer=keras.regularizers.l2(0.0001))(encoded)\n",
    "encoded = layers.Dense(encoding_dim, activation='relu',kernel_regularizer=keras.regularizers.l2(0.0001))(encoded)\n",
    "\n",
    "decoded = layers.Dense(4, activation='relu', kernel_regularizer=keras.regularizers.l2(0.0001))(encoded)\n",
    "decoded = layers.Dense(8, activation='relu', kernel_regularizer=keras.regularizers.l2(0.0001))(decoded)\n",
    "decoded = layers.Dense(n_features, activation='linear')(decoded)\n",
    "\n",
    "\n",
    "### Create the autoencoder model. \n",
    "# This model maps an input to its reconstruction\n",
    "autoencoder = models.Model(input_x, decoded)\n",
    "```"
   ]
  },
  {
   "cell_type": "code",
   "execution_count": 1,
   "metadata": {},
   "outputs": [
    {
     "name": "stdout",
     "output_type": "stream",
     "text": [
      "Tensorflow: 2.1.0\n"
     ]
    }
   ],
   "source": [
    "%matplotlib inline\n",
    "\n",
    "import matplotlib.pyplot as plt\n",
    "import numpy as np\n",
    "import pandas as pd\n",
    "from sklearn import metrics\n",
    "\n",
    "import tensorflow as tf\n",
    "from tensorflow import keras\n",
    "from tensorflow.keras import layers\n",
    "from tensorflow.keras import models\n",
    "\n",
    "from binaryclassifier.analyzer import Analyzer\n",
    "from data.utils import prepare_titanic, encode_features\n",
    "\n",
    "THEME_COLORS = [\n",
    "    '#00687F',      # Celestial Blue\n",
    "    '#95C93D',      # Green\n",
    "    '#58595B',      # Dark Gray\n",
    "    '#00A5A3',      # Teal\n",
    "    '#F2706C',      # Bright Red\n",
    "    '#933B80',      # Purple\n",
    "]\n",
    "\n",
    "print('Tensorflow:', tf.__version__)"
   ]
  },
  {
   "cell_type": "code",
   "execution_count": 2,
   "metadata": {},
   "outputs": [
    {
     "data": {
      "text/plain": [
       "'2.1.0'"
      ]
     },
     "execution_count": 2,
     "metadata": {},
     "output_type": "execute_result"
    }
   ],
   "source": [
    "tf.__version__"
   ]
  },
  {
   "cell_type": "code",
   "execution_count": 3,
   "metadata": {},
   "outputs": [
    {
     "name": "stdout",
     "output_type": "stream",
     "text": [
      "Download or read from disk.\n",
      "Convert to pandas.DataFrame\n",
      "Partition into Train and Test\n",
      "    Test size = 0.3\n",
      "    random_state = 123\n"
     ]
    }
   ],
   "source": [
    "df_train, df_test, y_train, y_test = prepare_titanic()\n",
    "\n",
    "df_train = encode_features(df_train)\n",
    "df_test = encode_features(df_test)"
   ]
  },
  {
   "cell_type": "code",
   "execution_count": 4,
   "metadata": {},
   "outputs": [],
   "source": [
    "class EpochDots(keras.callbacks.Callback):\n",
    "    \"\"\"A simple callback that prints a \".\" every epoch, with occasional reports.\n",
    "    \n",
    "    Args:\n",
    "        report_every: How many epochs between full reports\n",
    "        dot_every: How many epochs between dots.\n",
    "    \"\"\"\n",
    "\n",
    "    def __init__(self, report_every=100, dot_every=1):\n",
    "        self.report_every = report_every\n",
    "        self.dot_every = dot_every\n",
    "\n",
    "    def on_epoch_end(self, epoch, logs):\n",
    "        if epoch % self.report_every == 0:\n",
    "            print()\n",
    "            print('Epoch: {:d}, '.format(epoch), end='')\n",
    "            for name, value in sorted(logs.items()):\n",
    "                print('{}:{:0.4f}'.format(name, value), end=',  ')\n",
    "            print()\n",
    "\n",
    "        if epoch % self.dot_every == 0:\n",
    "            print('.', end='')"
   ]
  },
  {
   "cell_type": "code",
   "execution_count": 5,
   "metadata": {},
   "outputs": [
    {
     "name": "stdout",
     "output_type": "stream",
     "text": [
      "Download or read from disk.\n",
      "Convert to pandas.DataFrame\n",
      "Partition into Train and Test\n",
      "    Test size = 0.3\n",
      "    random_state = 123\n"
     ]
    }
   ],
   "source": [
    "df_train, df_test, y_train, y_test = prepare_titanic()\n",
    "\n",
    "# Encode columns as features\n",
    "df_train = encode_features(df_train)\n",
    "df_test = encode_features(df_test)\n",
    "\n",
    "# Normalize features using training data\n",
    "norm_df = df_train.describe().transpose()\n",
    "\n",
    "def norm(x, norm_df):\n",
    "    return (x - norm_df['mean']) / norm_df['std']\n",
    "\n",
    "df_train_sc = norm(df_train, norm_df)\n",
    "df_test_sc = norm(df_test, norm_df)"
   ]
  },
  {
   "cell_type": "code",
   "execution_count": 6,
   "metadata": {},
   "outputs": [],
   "source": [
    "METRICS = [\n",
    "      keras.metrics.MeanAbsoluteError(name='mae'),\n",
    "      keras.metrics.MeanSquaredError(name='mse')\n",
    "]"
   ]
  },
  {
   "cell_type": "code",
   "execution_count": 7,
   "metadata": {},
   "outputs": [],
   "source": [
    "# Size of encoded representation\n",
    "n_features = df_train_sc.shape[1]\n",
    "encoding_dim = 3\n",
    "\n",
    "# input placeholder\n",
    "input_x = layers.Input(shape=(n_features))\n",
    "\n",
    "encoded = layers.Dense(8, activation='relu', kernel_regularizer=keras.regularizers.l2(0.0001))(input_x)\n",
    "encoded = layers.Dense(4, activation='relu', kernel_regularizer=keras.regularizers.l2(0.0001))(encoded)\n",
    "encoded = layers.Dense(encoding_dim, activation='relu',kernel_regularizer=keras.regularizers.l2(0.0001))(encoded)\n",
    "\n",
    "decoded = layers.Dense(4, activation='relu', kernel_regularizer=keras.regularizers.l2(0.0001))(encoded)\n",
    "decoded = layers.Dense(8, activation='relu', kernel_regularizer=keras.regularizers.l2(0.0001))(decoded)\n",
    "decoded = layers.Dense(n_features, activation='linear')(decoded)\n",
    "\n",
    "\n",
    "### Create the autoencoder model. \n",
    "# This model maps an input to its reconstruction\n",
    "autoencoder = models.Model(input_x, decoded)\n",
    "\n",
    "### Create the encoder model.  \n",
    "# This model maps an input to its encoded representation\n",
    "encoder = models.Model(input_x, encoded)\n",
    "\n",
    "###FIXME: cannot get the decoder to compile correctly.  This is less important since the decoder is not usually necessary.\n",
    "### Create the decoder model. \n",
    "# This model maps encoded representation to reconstructions\n",
    "#encoded_input = layers.Input(shape=encoding_dim)\n",
    "# retrieve the last layer of the autoencoder model\n",
    "#decoder_layer = decoder.layers[-1]\n",
    "# create the decoder\n",
    "#decoder = models.Model(encoded_input, decoded)"
   ]
  },
  {
   "cell_type": "code",
   "execution_count": 8,
   "metadata": {},
   "outputs": [
    {
     "name": "stdout",
     "output_type": "stream",
     "text": [
      "\n",
      "Epoch: 0, loss:0.9947,  mae:0.6874,  mse:0.9921,  val_loss:1.0979,  val_mae:0.6861,  val_mse:1.0953,  \n",
      "..........\n",
      "Epoch: 100, loss:0.4031,  mae:0.3711,  mse:0.3989,  val_loss:0.5483,  val_mae:0.3889,  val_mse:0.5441,  \n",
      "..........\n",
      "Epoch: 200, loss:0.3488,  mae:0.3225,  mse:0.3437,  val_loss:0.4730,  val_mae:0.3351,  val_mse:0.4679,  \n",
      "..........\n",
      "Epoch: 300, loss:0.3247,  mae:0.3055,  mse:0.3191,  val_loss:0.4335,  val_mae:0.3168,  val_mse:0.4280,  \n",
      "..........\n",
      "Epoch: 400, loss:0.3035,  mae:0.3065,  mse:0.2978,  val_loss:0.3731,  val_mae:0.3176,  val_mse:0.3674,  \n",
      "..........\n",
      "Epoch: 500, loss:0.2959,  mae:0.3199,  mse:0.2904,  val_loss:0.3381,  val_mae:0.3268,  val_mse:0.3326,  \n",
      "..........\n",
      "Epoch: 600, loss:0.2748,  mae:0.3196,  mse:0.2697,  val_loss:0.2734,  val_mae:0.3201,  val_mse:0.2683,  \n",
      "..........\n",
      "Epoch: 700, loss:0.2568,  mae:0.3082,  mse:0.2518,  val_loss:0.2511,  val_mae:0.3099,  val_mse:0.2461,  \n",
      "..........\n",
      "Epoch: 800, loss:0.2483,  mae:0.3016,  mse:0.2434,  val_loss:0.2403,  val_mae:0.2997,  val_mse:0.2354,  \n",
      "..........\n",
      "Epoch: 900, loss:0.2559,  mae:0.3006,  mse:0.2510,  val_loss:0.2479,  val_mae:0.3161,  val_mse:0.2430,  \n",
      ".........."
     ]
    }
   ],
   "source": [
    "autoencoder.compile(optimizer='adam', \n",
    "                    loss='mse', \n",
    "                    metrics=METRICS)\n",
    "\n",
    "history = autoencoder.fit(df_train_sc, df_train_sc,\n",
    "                epochs=1000,\n",
    "                batch_size=32,\n",
    "                shuffle=True,\n",
    "                verbose=0,\n",
    "                validation_data=(df_test_sc, df_test_sc),\n",
    "                callbacks=[EpochDots(report_every=100, dot_every=10)]\n",
    ")"
   ]
  },
  {
   "cell_type": "markdown",
   "metadata": {},
   "source": [
    "Plotting the learning curve shows that the model is converging after around 800 epochs. It may still need some tuning since the validation set unexpectedly converges below the training set."
   ]
  },
  {
   "cell_type": "code",
   "execution_count": 30,
   "metadata": {},
   "outputs": [
    {
     "data": {
      "image/png": "[encoded data removed]",
      "text/plain": [
       "<Figure size 576x360 with 1 Axes>"
      ]
     },
     "metadata": {
      "needs_background": "light"
     },
     "output_type": "display_data"
    }
   ],
   "source": [
    "hist = pd.DataFrame(history.history)\n",
    "hist['epoch'] = history.epoch\n",
    "hist['epoch'] = hist['epoch'] + 1\n",
    "\n",
    "fig, ax = plt.subplots(figsize=(8,5))\n",
    "ax.plot(hist['epoch'], hist['loss'], label='loss')\n",
    "ax.plot(hist['epoch'], hist['val_loss'], label='val_loss')\n",
    "plt.title('Learning Curve')\n",
    "plt.xlabel('Epochs')\n",
    "plt.ylabel('Mean Square Error')\n",
    "plt.legend()\n",
    "plt.show()"
   ]
  },
  {
   "cell_type": "markdown",
   "metadata": {},
   "source": [
    "Calling predict on the encoder model returns the latent features."
   ]
  },
  {
   "cell_type": "code",
   "execution_count": 13,
   "metadata": {},
   "outputs": [
    {
     "data": {
      "text/plain": [
       "array([[ 4.5122237 ,  0.        ,  5.1646957 ],\n",
       "       [ 0.        ,  7.473511  ,  5.4687333 ],\n",
       "       [ 0.29151893,  1.9523813 ,  3.3893952 ],\n",
       "       ...,\n",
       "       [ 1.9410379 ,  0.        ,  0.44714108],\n",
       "       [ 0.        ,  8.731602  ,  8.032708  ],\n",
       "       [18.195528  ,  0.        , 13.835117  ]], dtype=float32)"
      ]
     },
     "execution_count": 13,
     "metadata": {},
     "output_type": "execute_result"
    }
   ],
   "source": [
    "encoder.predict(df_train_sc)"
   ]
  },
  {
   "cell_type": "markdown",
   "metadata": {},
   "source": [
    "Since the latent variables have relu activations, they range from 0 to +inf."
   ]
  },
  {
   "cell_type": "code",
   "execution_count": 19,
   "metadata": {},
   "outputs": [
    {
     "data": {
      "text/html": [
       "<div>\n",
       "<style scoped>\n",
       "    .dataframe tbody tr th:only-of-type {\n",
       "        vertical-align: middle;\n",
       "    }\n",
       "\n",
       "    .dataframe tbody tr th {\n",
       "        vertical-align: top;\n",
       "    }\n",
       "\n",
       "    .dataframe thead th {\n",
       "        text-align: right;\n",
       "    }\n",
       "</style>\n",
       "<table border=\"1\" class=\"dataframe\">\n",
       "  <thead>\n",
       "    <tr style=\"text-align: right;\">\n",
       "      <th></th>\n",
       "      <th>0</th>\n",
       "      <th>1</th>\n",
       "      <th>2</th>\n",
       "    </tr>\n",
       "  </thead>\n",
       "  <tbody>\n",
       "    <tr>\n",
       "      <th>count</th>\n",
       "      <td>916.000000</td>\n",
       "      <td>916.000000</td>\n",
       "      <td>916.000000</td>\n",
       "    </tr>\n",
       "    <tr>\n",
       "      <th>mean</th>\n",
       "      <td>2.171626</td>\n",
       "      <td>1.706545</td>\n",
       "      <td>3.506188</td>\n",
       "    </tr>\n",
       "    <tr>\n",
       "      <th>std</th>\n",
       "      <td>2.916344</td>\n",
       "      <td>3.151037</td>\n",
       "      <td>4.459629</td>\n",
       "    </tr>\n",
       "    <tr>\n",
       "      <th>min</th>\n",
       "      <td>0.000000</td>\n",
       "      <td>0.000000</td>\n",
       "      <td>0.000000</td>\n",
       "    </tr>\n",
       "    <tr>\n",
       "      <th>25%</th>\n",
       "      <td>0.285134</td>\n",
       "      <td>0.000000</td>\n",
       "      <td>1.251384</td>\n",
       "    </tr>\n",
       "    <tr>\n",
       "      <th>50%</th>\n",
       "      <td>1.923835</td>\n",
       "      <td>0.000000</td>\n",
       "      <td>2.223986</td>\n",
       "    </tr>\n",
       "    <tr>\n",
       "      <th>75%</th>\n",
       "      <td>2.706581</td>\n",
       "      <td>2.122719</td>\n",
       "      <td>5.244450</td>\n",
       "    </tr>\n",
       "    <tr>\n",
       "      <th>max</th>\n",
       "      <td>18.349312</td>\n",
       "      <td>50.940140</td>\n",
       "      <td>103.672447</td>\n",
       "    </tr>\n",
       "  </tbody>\n",
       "</table>\n",
       "</div>"
      ],
      "text/plain": [
       "                0           1           2\n",
       "count  916.000000  916.000000  916.000000\n",
       "mean     2.171626    1.706545    3.506188\n",
       "std      2.916344    3.151037    4.459629\n",
       "min      0.000000    0.000000    0.000000\n",
       "25%      0.285134    0.000000    1.251384\n",
       "50%      1.923835    0.000000    2.223986\n",
       "75%      2.706581    2.122719    5.244450\n",
       "max     18.349312   50.940140  103.672447"
      ]
     },
     "execution_count": 19,
     "metadata": {},
     "output_type": "execute_result"
    }
   ],
   "source": [
    "pd.DataFrame(encoder.predict(df_train_sc)).describe()"
   ]
  },
  {
   "cell_type": "markdown",
   "metadata": {},
   "source": [
    "The latent variables generally have low correlation with each other since they carry different information."
   ]
  },
  {
   "cell_type": "code",
   "execution_count": 20,
   "metadata": {},
   "outputs": [
    {
     "data": {
      "text/html": [
       "<div>\n",
       "<style scoped>\n",
       "    .dataframe tbody tr th:only-of-type {\n",
       "        vertical-align: middle;\n",
       "    }\n",
       "\n",
       "    .dataframe tbody tr th {\n",
       "        vertical-align: top;\n",
       "    }\n",
       "\n",
       "    .dataframe thead th {\n",
       "        text-align: right;\n",
       "    }\n",
       "</style>\n",
       "<table border=\"1\" class=\"dataframe\">\n",
       "  <thead>\n",
       "    <tr style=\"text-align: right;\">\n",
       "      <th></th>\n",
       "      <th>0</th>\n",
       "      <th>1</th>\n",
       "      <th>2</th>\n",
       "    </tr>\n",
       "  </thead>\n",
       "  <tbody>\n",
       "    <tr>\n",
       "      <th>0</th>\n",
       "      <td>1.000000</td>\n",
       "      <td>-0.379574</td>\n",
       "      <td>0.212222</td>\n",
       "    </tr>\n",
       "    <tr>\n",
       "      <th>1</th>\n",
       "      <td>-0.379574</td>\n",
       "      <td>1.000000</td>\n",
       "      <td>0.688631</td>\n",
       "    </tr>\n",
       "    <tr>\n",
       "      <th>2</th>\n",
       "      <td>0.212222</td>\n",
       "      <td>0.688631</td>\n",
       "      <td>1.000000</td>\n",
       "    </tr>\n",
       "  </tbody>\n",
       "</table>\n",
       "</div>"
      ],
      "text/plain": [
       "          0         1         2\n",
       "0  1.000000 -0.379574  0.212222\n",
       "1 -0.379574  1.000000  0.688631\n",
       "2  0.212222  0.688631  1.000000"
      ]
     },
     "execution_count": 20,
     "metadata": {},
     "output_type": "execute_result"
    }
   ],
   "source": [
    "pd.DataFrame(encoder.predict(df_train_sc)).corr()"
   ]
  },
  {
   "cell_type": "markdown",
   "metadata": {},
   "source": [
    "Calling predict on the autoencoder model returns the reconstructed features."
   ]
  },
  {
   "cell_type": "code",
   "execution_count": 22,
   "metadata": {},
   "outputs": [
    {
     "data": {
      "text/html": [
       "<div>\n",
       "<style scoped>\n",
       "    .dataframe tbody tr th:only-of-type {\n",
       "        vertical-align: middle;\n",
       "    }\n",
       "\n",
       "    .dataframe tbody tr th {\n",
       "        vertical-align: top;\n",
       "    }\n",
       "\n",
       "    .dataframe thead th {\n",
       "        text-align: right;\n",
       "    }\n",
       "</style>\n",
       "<table border=\"1\" class=\"dataframe\">\n",
       "  <thead>\n",
       "    <tr style=\"text-align: right;\">\n",
       "      <th></th>\n",
       "      <th>age</th>\n",
       "      <th>cabin</th>\n",
       "      <th>fare</th>\n",
       "      <th>sex</th>\n",
       "      <th>pclass</th>\n",
       "      <th>sibsp</th>\n",
       "      <th>ticket</th>\n",
       "      <th>embarked_0</th>\n",
       "      <th>embarked_1</th>\n",
       "      <th>embarked_2</th>\n",
       "      <th>embarked_3</th>\n",
       "    </tr>\n",
       "  </thead>\n",
       "  <tbody>\n",
       "    <tr>\n",
       "      <th>0</th>\n",
       "      <td>0.185554</td>\n",
       "      <td>0.185381</td>\n",
       "      <td>-0.429324</td>\n",
       "      <td>-0.283735</td>\n",
       "      <td>0.083654</td>\n",
       "      <td>-0.547557</td>\n",
       "      <td>-0.190209</td>\n",
       "      <td>-0.532743</td>\n",
       "      <td>-0.339177</td>\n",
       "      <td>0.686026</td>\n",
       "      <td>-0.034217</td>\n",
       "    </tr>\n",
       "    <tr>\n",
       "      <th>1</th>\n",
       "      <td>0.687350</td>\n",
       "      <td>-0.838047</td>\n",
       "      <td>0.235801</td>\n",
       "      <td>-0.049409</td>\n",
       "      <td>-0.883654</td>\n",
       "      <td>-0.664766</td>\n",
       "      <td>-0.237208</td>\n",
       "      <td>-0.693424</td>\n",
       "      <td>0.254210</td>\n",
       "      <td>0.473551</td>\n",
       "      <td>-0.155150</td>\n",
       "    </tr>\n",
       "    <tr>\n",
       "      <th>2</th>\n",
       "      <td>0.342278</td>\n",
       "      <td>0.001247</td>\n",
       "      <td>-0.360191</td>\n",
       "      <td>-0.312105</td>\n",
       "      <td>-0.110510</td>\n",
       "      <td>-0.742800</td>\n",
       "      <td>-0.178083</td>\n",
       "      <td>-0.556720</td>\n",
       "      <td>-0.337512</td>\n",
       "      <td>0.710643</td>\n",
       "      <td>-0.057131</td>\n",
       "    </tr>\n",
       "    <tr>\n",
       "      <th>3</th>\n",
       "      <td>-0.074435</td>\n",
       "      <td>0.648563</td>\n",
       "      <td>-0.720114</td>\n",
       "      <td>-0.389273</td>\n",
       "      <td>0.592739</td>\n",
       "      <td>-0.459926</td>\n",
       "      <td>0.256022</td>\n",
       "      <td>-0.465227</td>\n",
       "      <td>-0.334001</td>\n",
       "      <td>0.609998</td>\n",
       "      <td>0.033958</td>\n",
       "    </tr>\n",
       "    <tr>\n",
       "      <th>4</th>\n",
       "      <td>-0.415660</td>\n",
       "      <td>0.685161</td>\n",
       "      <td>-0.369386</td>\n",
       "      <td>0.021360</td>\n",
       "      <td>0.696571</td>\n",
       "      <td>0.844334</td>\n",
       "      <td>0.180476</td>\n",
       "      <td>-0.512359</td>\n",
       "      <td>-0.328362</td>\n",
       "      <td>0.642702</td>\n",
       "      <td>-0.012195</td>\n",
       "    </tr>\n",
       "  </tbody>\n",
       "</table>\n",
       "</div>"
      ],
      "text/plain": [
       "        age     cabin      fare       sex    pclass     sibsp    ticket  \\\n",
       "0  0.185554  0.185381 -0.429324 -0.283735  0.083654 -0.547557 -0.190209   \n",
       "1  0.687350 -0.838047  0.235801 -0.049409 -0.883654 -0.664766 -0.237208   \n",
       "2  0.342278  0.001247 -0.360191 -0.312105 -0.110510 -0.742800 -0.178083   \n",
       "3 -0.074435  0.648563 -0.720114 -0.389273  0.592739 -0.459926  0.256022   \n",
       "4 -0.415660  0.685161 -0.369386  0.021360  0.696571  0.844334  0.180476   \n",
       "\n",
       "   embarked_0  embarked_1  embarked_2  embarked_3  \n",
       "0   -0.532743   -0.339177    0.686026   -0.034217  \n",
       "1   -0.693424    0.254210    0.473551   -0.155150  \n",
       "2   -0.556720   -0.337512    0.710643   -0.057131  \n",
       "3   -0.465227   -0.334001    0.609998    0.033958  \n",
       "4   -0.512359   -0.328362    0.642702   -0.012195  "
      ]
     },
     "execution_count": 22,
     "metadata": {},
     "output_type": "execute_result"
    }
   ],
   "source": [
    "df_test_rec = pd.DataFrame(autoencoder.predict(df_test_sc), columns=df_test_sc.columns)\n",
    "df_test_rec.head()"
   ]
  },
  {
   "cell_type": "markdown",
   "metadata": {},
   "source": [
    "We can check the Pearson correlation coefficient for the feature and its reconstruction.  All variables have a positive correlation like we want, some appear quite high.  The highest ones appear to be the indicator or category variables."
   ]
  },
  {
   "cell_type": "code",
   "execution_count": 28,
   "metadata": {},
   "outputs": [
    {
     "name": "stdout",
     "output_type": "stream",
     "text": [
      "age          0.562\n",
      "cabin        0.862\n",
      "fare         0.795\n",
      "sex          0.437\n",
      "pclass       0.918\n",
      "sibsp        0.912\n",
      "ticket       0.98\n",
      "embarked_0   0.992\n",
      "embarked_1   0.992\n",
      "embarked_2   0.993\n",
      "embarked_3   0.997\n"
     ]
    }
   ],
   "source": [
    "for feature in df_test_sc.columns:\n",
    "    corr = np.corrcoef(df_test_rec[feature], df_test_sc[feature])[0,1]\n",
    "    print(feature.ljust(12), str(round(corr, 3)))\n",
    "    "
   ]
  },
  {
   "cell_type": "code",
   "execution_count": null,
   "metadata": {},
   "outputs": [],
   "source": []
  }
 ],
 "metadata": {
  "kernelspec": {
   "display_name": "Python 3",
   "language": "python",
   "name": "python3"
  },
  "language_info": {
   "codemirror_mode": {
    "name": "ipython",
    "version": 3
   },
   "file_extension": ".py",
   "mimetype": "text/x-python",
   "name": "python",
   "nbconvert_exporter": "python",
   "pygments_lexer": "ipython3",
   "version": "3.7.3"
  }
 },
 "nbformat": 4,
 "nbformat_minor": 4
}
